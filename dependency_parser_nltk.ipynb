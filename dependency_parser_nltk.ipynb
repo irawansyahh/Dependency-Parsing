{
  "nbformat": 4,
  "nbformat_minor": 0,
  "metadata": {
    "colab": {
      "name": "dependency_parser_nltk.ipynb",
      "provenance": []
    },
    "kernelspec": {
      "name": "python3",
      "display_name": "Python 3"
    }
  },
  "cells": [
    {
      "cell_type": "markdown",
      "metadata": {
        "id": "CUuGrdnUH-oO"
      },
      "source": [
        "Tutorial Pekan Ketujuh, *Dependency Parsing* dengan NLTK\n",
        "\n",
        "Sumber: \n",
        "\n",
        "https://www.nltk.org/book/ch08.html\n",
        "\n",
        "http://www.nltk.org/howto/dependency.html"
      ]
    },
    {
      "cell_type": "markdown",
      "metadata": {
        "id": "i_v3zcE6IXk3"
      },
      "source": [
        "Install library NLTK"
      ]
    },
    {
      "cell_type": "code",
      "metadata": {
        "id": "hy0fvprVj0jZ",
        "outputId": "73c4df77-3410-4961-97e3-9137dd45fbc0",
        "colab": {
          "base_uri": "https://localhost:8080/"
        }
      },
      "source": [
        "!pip install nltk"
      ],
      "execution_count": 1,
      "outputs": [
        {
          "output_type": "stream",
          "text": [
            "Requirement already satisfied: nltk in /usr/local/lib/python3.6/dist-packages (3.2.5)\n",
            "Requirement already satisfied: six in /usr/local/lib/python3.6/dist-packages (from nltk) (1.15.0)\n"
          ],
          "name": "stdout"
        }
      ]
    },
    {
      "cell_type": "markdown",
      "metadata": {
        "id": "mur2BBmQIbAf"
      },
      "source": [
        "Import library NLTK"
      ]
    },
    {
      "cell_type": "code",
      "metadata": {
        "id": "rWhPnw9moYpg"
      },
      "source": [
        "import nltk"
      ],
      "execution_count": 2,
      "outputs": []
    },
    {
      "cell_type": "markdown",
      "metadata": {
        "id": "bL5X4j9TId2O"
      },
      "source": [
        "Contoh mendefinisikan sebuah *Dependency Grammar*"
      ]
    },
    {
      "cell_type": "code",
      "metadata": {
        "id": "gruw4bSmiqY_"
      },
      "source": [
        "dep_grammar_1 = nltk.DependencyGrammar.fromstring(\"\"\"\n",
        "    'melihat' -> 'aziz' | 'seorang' | 'dengan'\n",
        "    'seorang' -> 'penjahat' | 'dengan'\n",
        "    'dengan' -> 'pistol'\n",
        "    'pistol' -> 'miliknya'\n",
        "    \"\"\")"
      ],
      "execution_count": 106,
      "outputs": []
    },
    {
      "cell_type": "code",
      "metadata": {
        "id": "pz33dwwWoeLG",
        "outputId": "597392fd-a5aa-43b5-d442-0ae7972ab1b3",
        "colab": {
          "base_uri": "https://localhost:8080/"
        }
      },
      "source": [
        "print(dep_grammar_1)"
      ],
      "execution_count": 107,
      "outputs": [
        {
          "output_type": "stream",
          "text": [
            "Dependency grammar with 7 productions\n",
            "  'melihat' -> 'aziz'\n",
            "  'melihat' -> 'seorang'\n",
            "  'melihat' -> 'dengan'\n",
            "  'seorang' -> 'penjahat'\n",
            "  'seorang' -> 'dengan'\n",
            "  'dengan' -> 'pistol'\n",
            "  'pistol' -> 'miliknya'\n"
          ],
          "name": "stdout"
        }
      ]
    },
    {
      "cell_type": "markdown",
      "metadata": {
        "id": "opcdZC96IsIY"
      },
      "source": [
        "Coba lakukan *parsing* dengan Parser Dependency Projective"
      ]
    },
    {
      "cell_type": "code",
      "metadata": {
        "id": "QtsumC5_o5zN",
        "outputId": "1d7b4291-e6fe-473c-9e96-dede4d155e0f",
        "colab": {
          "base_uri": "https://localhost:8080/"
        }
      },
      "source": [
        "pdp = nltk.ProjectiveDependencyParser(dep_grammar_1)\n",
        "sent = 'aziz melihat seorang penjahat dengan pistol miliknya'.split()\n",
        "trees = pdp.parse(sent)\n",
        "\n",
        "for tree in trees:\n",
        "    print(tree)"
      ],
      "execution_count": 108,
      "outputs": [
        {
          "output_type": "stream",
          "text": [
            "(melihat aziz (seorang penjahat) (dengan (pistol miliknya)))\n",
            "(melihat aziz (seorang penjahat (dengan (pistol miliknya))))\n"
          ],
          "name": "stdout"
        }
      ]
    },
    {
      "cell_type": "markdown",
      "metadata": {
        "id": "U_kM_8DbI4nJ"
      },
      "source": [
        "Contoh pendefinisian *Dependency Grammar*, untuk di-parse dengan Parser NOn-Projective"
      ]
    },
    {
      "cell_type": "code",
      "metadata": {
        "id": "Njq54auwGXSn"
      },
      "source": [
        "dep_grammar_2 = nltk.DependencyGrammar.fromstring(\"\"\"\n",
        "    'mengajak' -> 'bermain' | 'wanita'\n",
        "    'wanita' -> 'itu'\n",
        "    'bermain' -> 'basket' | 'teman' | 'untuk'\n",
        "    'teman' -> 'kecilnya'\n",
        "    \"\"\")"
      ],
      "execution_count": 112,
      "outputs": []
    },
    {
      "cell_type": "code",
      "metadata": {
        "id": "JqiWpPjCGxdg",
        "outputId": "bfaf09b7-511b-46dd-d905-25ee79db6958",
        "colab": {
          "base_uri": "https://localhost:8080/"
        }
      },
      "source": [
        "print(dep_grammar_2)"
      ],
      "execution_count": 113,
      "outputs": [
        {
          "output_type": "stream",
          "text": [
            "Dependency grammar with 7 productions\n",
            "  'mengajak' -> 'bermain'\n",
            "  'mengajak' -> 'wanita'\n",
            "  'wanita' -> 'itu'\n",
            "  'bermain' -> 'basket'\n",
            "  'bermain' -> 'teman'\n",
            "  'bermain' -> 'untuk'\n",
            "  'teman' -> 'kecilnya'\n"
          ],
          "name": "stdout"
        }
      ]
    },
    {
      "cell_type": "markdown",
      "metadata": {
        "id": "7DxXFXutJE1R"
      },
      "source": [
        "Coba lakukan *parsing* berdasar Grammar dep_grammar_2, dengan Parser Non Projective"
      ]
    },
    {
      "cell_type": "code",
      "metadata": {
        "id": "3WfBGOvOHCJM",
        "outputId": "b91b4dc1-efd8-4315-d69d-899e3fc183cb",
        "colab": {
          "base_uri": "https://localhost:8080/"
        }
      },
      "source": [
        "npdp = nltk.NonprojectiveDependencyParser(dep_grammar_2)\n",
        "sent = 'wanita itu mengajak bermain teman kecilnya untuk bermain basket'.split()\n",
        "trees = npdp.parse(sent)\n",
        "\n",
        "for tree in trees:\n",
        "    print(tree)"
      ],
      "execution_count": 114,
      "outputs": [
        {
          "output_type": "stream",
          "text": [
            "defaultdict(<function DependencyGraph.__init__.<locals>.<lambda> at 0x7fbe92db3ea0>,\n",
            "            {0: {'address': 0,\n",
            "                 'ctag': 'TOP',\n",
            "                 'deps': defaultdict(<class 'list'>, {'ROOT': [3]}),\n",
            "                 'feats': None,\n",
            "                 'head': None,\n",
            "                 'lemma': None,\n",
            "                 'rel': None,\n",
            "                 'tag': 'TOP',\n",
            "                 'word': None},\n",
            "             1: {'address': 1,\n",
            "                 'ctag': None,\n",
            "                 'deps': defaultdict(<class 'list'>, {'': [2]}),\n",
            "                 'feats': None,\n",
            "                 'head': None,\n",
            "                 'lemma': None,\n",
            "                 'rel': None,\n",
            "                 'tag': None,\n",
            "                 'word': 'wanita'},\n",
            "             2: {'address': 2,\n",
            "                 'ctag': None,\n",
            "                 'deps': defaultdict(<class 'list'>, {}),\n",
            "                 'feats': None,\n",
            "                 'head': None,\n",
            "                 'lemma': None,\n",
            "                 'rel': None,\n",
            "                 'tag': None,\n",
            "                 'word': 'itu'},\n",
            "             3: {'address': 3,\n",
            "                 'ctag': None,\n",
            "                 'deps': defaultdict(<class 'list'>, {'': [1, 4, 8]}),\n",
            "                 'feats': None,\n",
            "                 'head': None,\n",
            "                 'lemma': None,\n",
            "                 'rel': None,\n",
            "                 'tag': None,\n",
            "                 'word': 'mengajak'},\n",
            "             4: {'address': 4,\n",
            "                 'ctag': None,\n",
            "                 'deps': defaultdict(<class 'list'>, {}),\n",
            "                 'feats': None,\n",
            "                 'head': None,\n",
            "                 'lemma': None,\n",
            "                 'rel': None,\n",
            "                 'tag': None,\n",
            "                 'word': 'bermain'},\n",
            "             5: {'address': 5,\n",
            "                 'ctag': None,\n",
            "                 'deps': defaultdict(<class 'list'>, {'': [6]}),\n",
            "                 'feats': None,\n",
            "                 'head': None,\n",
            "                 'lemma': None,\n",
            "                 'rel': None,\n",
            "                 'tag': None,\n",
            "                 'word': 'teman'},\n",
            "             6: {'address': 6,\n",
            "                 'ctag': None,\n",
            "                 'deps': defaultdict(<class 'list'>, {}),\n",
            "                 'feats': None,\n",
            "                 'head': None,\n",
            "                 'lemma': None,\n",
            "                 'rel': None,\n",
            "                 'tag': None,\n",
            "                 'word': 'kecilnya'},\n",
            "             7: {'address': 7,\n",
            "                 'ctag': None,\n",
            "                 'deps': defaultdict(<class 'list'>, {}),\n",
            "                 'feats': None,\n",
            "                 'head': None,\n",
            "                 'lemma': None,\n",
            "                 'rel': None,\n",
            "                 'tag': None,\n",
            "                 'word': 'untuk'},\n",
            "             8: {'address': 8,\n",
            "                 'ctag': None,\n",
            "                 'deps': defaultdict(<class 'list'>, {'': [5, 7, 9]}),\n",
            "                 'feats': None,\n",
            "                 'head': None,\n",
            "                 'lemma': None,\n",
            "                 'rel': None,\n",
            "                 'tag': None,\n",
            "                 'word': 'bermain'},\n",
            "             9: {'address': 9,\n",
            "                 'ctag': None,\n",
            "                 'deps': defaultdict(<class 'list'>, {}),\n",
            "                 'feats': None,\n",
            "                 'head': None,\n",
            "                 'lemma': None,\n",
            "                 'rel': None,\n",
            "                 'tag': None,\n",
            "                 'word': 'basket'}})\n",
            "defaultdict(<function DependencyGraph.__init__.<locals>.<lambda> at 0x7fbe92d271e0>,\n",
            "            {0: {'address': 0,\n",
            "                 'ctag': 'TOP',\n",
            "                 'deps': defaultdict(<class 'list'>, {'ROOT': [3]}),\n",
            "                 'feats': None,\n",
            "                 'head': None,\n",
            "                 'lemma': None,\n",
            "                 'rel': None,\n",
            "                 'tag': 'TOP',\n",
            "                 'word': None},\n",
            "             1: {'address': 1,\n",
            "                 'ctag': None,\n",
            "                 'deps': defaultdict(<class 'list'>, {'': [2]}),\n",
            "                 'feats': None,\n",
            "                 'head': None,\n",
            "                 'lemma': None,\n",
            "                 'rel': None,\n",
            "                 'tag': None,\n",
            "                 'word': 'wanita'},\n",
            "             2: {'address': 2,\n",
            "                 'ctag': None,\n",
            "                 'deps': defaultdict(<class 'list'>, {}),\n",
            "                 'feats': None,\n",
            "                 'head': None,\n",
            "                 'lemma': None,\n",
            "                 'rel': None,\n",
            "                 'tag': None,\n",
            "                 'word': 'itu'},\n",
            "             3: {'address': 3,\n",
            "                 'ctag': None,\n",
            "                 'deps': defaultdict(<class 'list'>, {'': [1, 4, 8]}),\n",
            "                 'feats': None,\n",
            "                 'head': None,\n",
            "                 'lemma': None,\n",
            "                 'rel': None,\n",
            "                 'tag': None,\n",
            "                 'word': 'mengajak'},\n",
            "             4: {'address': 4,\n",
            "                 'ctag': None,\n",
            "                 'deps': defaultdict(<class 'list'>, {'': [7, 9]}),\n",
            "                 'feats': None,\n",
            "                 'head': None,\n",
            "                 'lemma': None,\n",
            "                 'rel': None,\n",
            "                 'tag': None,\n",
            "                 'word': 'bermain'},\n",
            "             5: {'address': 5,\n",
            "                 'ctag': None,\n",
            "                 'deps': defaultdict(<class 'list'>, {'': [6]}),\n",
            "                 'feats': None,\n",
            "                 'head': None,\n",
            "                 'lemma': None,\n",
            "                 'rel': None,\n",
            "                 'tag': None,\n",
            "                 'word': 'teman'},\n",
            "             6: {'address': 6,\n",
            "                 'ctag': None,\n",
            "                 'deps': defaultdict(<class 'list'>, {}),\n",
            "                 'feats': None,\n",
            "                 'head': None,\n",
            "                 'lemma': None,\n",
            "                 'rel': None,\n",
            "                 'tag': None,\n",
            "                 'word': 'kecilnya'},\n",
            "             7: {'address': 7,\n",
            "                 'ctag': None,\n",
            "                 'deps': defaultdict(<class 'list'>, {}),\n",
            "                 'feats': None,\n",
            "                 'head': None,\n",
            "                 'lemma': None,\n",
            "                 'rel': None,\n",
            "                 'tag': None,\n",
            "                 'word': 'untuk'},\n",
            "             8: {'address': 8,\n",
            "                 'ctag': None,\n",
            "                 'deps': defaultdict(<class 'list'>, {'': [5]}),\n",
            "                 'feats': None,\n",
            "                 'head': None,\n",
            "                 'lemma': None,\n",
            "                 'rel': None,\n",
            "                 'tag': None,\n",
            "                 'word': 'bermain'},\n",
            "             9: {'address': 9,\n",
            "                 'ctag': None,\n",
            "                 'deps': defaultdict(<class 'list'>, {}),\n",
            "                 'feats': None,\n",
            "                 'head': None,\n",
            "                 'lemma': None,\n",
            "                 'rel': None,\n",
            "                 'tag': None,\n",
            "                 'word': 'basket'}})\n",
            "defaultdict(<function DependencyGraph.__init__.<locals>.<lambda> at 0x7fbe92d272f0>,\n",
            "            {0: {'address': 0,\n",
            "                 'ctag': 'TOP',\n",
            "                 'deps': defaultdict(<class 'list'>, {'ROOT': [3]}),\n",
            "                 'feats': None,\n",
            "                 'head': None,\n",
            "                 'lemma': None,\n",
            "                 'rel': None,\n",
            "                 'tag': 'TOP',\n",
            "                 'word': None},\n",
            "             1: {'address': 1,\n",
            "                 'ctag': None,\n",
            "                 'deps': defaultdict(<class 'list'>, {'': [2]}),\n",
            "                 'feats': None,\n",
            "                 'head': None,\n",
            "                 'lemma': None,\n",
            "                 'rel': None,\n",
            "                 'tag': None,\n",
            "                 'word': 'wanita'},\n",
            "             2: {'address': 2,\n",
            "                 'ctag': None,\n",
            "                 'deps': defaultdict(<class 'list'>, {}),\n",
            "                 'feats': None,\n",
            "                 'head': None,\n",
            "                 'lemma': None,\n",
            "                 'rel': None,\n",
            "                 'tag': None,\n",
            "                 'word': 'itu'},\n",
            "             3: {'address': 3,\n",
            "                 'ctag': None,\n",
            "                 'deps': defaultdict(<class 'list'>, {'': [1, 4, 8]}),\n",
            "                 'feats': None,\n",
            "                 'head': None,\n",
            "                 'lemma': None,\n",
            "                 'rel': None,\n",
            "                 'tag': None,\n",
            "                 'word': 'mengajak'},\n",
            "             4: {'address': 4,\n",
            "                 'ctag': None,\n",
            "                 'deps': defaultdict(<class 'list'>, {'': [5, 9]}),\n",
            "                 'feats': None,\n",
            "                 'head': None,\n",
            "                 'lemma': None,\n",
            "                 'rel': None,\n",
            "                 'tag': None,\n",
            "                 'word': 'bermain'},\n",
            "             5: {'address': 5,\n",
            "                 'ctag': None,\n",
            "                 'deps': defaultdict(<class 'list'>, {'': [6]}),\n",
            "                 'feats': None,\n",
            "                 'head': None,\n",
            "                 'lemma': None,\n",
            "                 'rel': None,\n",
            "                 'tag': None,\n",
            "                 'word': 'teman'},\n",
            "             6: {'address': 6,\n",
            "                 'ctag': None,\n",
            "                 'deps': defaultdict(<class 'list'>, {}),\n",
            "                 'feats': None,\n",
            "                 'head': None,\n",
            "                 'lemma': None,\n",
            "                 'rel': None,\n",
            "                 'tag': None,\n",
            "                 'word': 'kecilnya'},\n",
            "             7: {'address': 7,\n",
            "                 'ctag': None,\n",
            "                 'deps': defaultdict(<class 'list'>, {}),\n",
            "                 'feats': None,\n",
            "                 'head': None,\n",
            "                 'lemma': None,\n",
            "                 'rel': None,\n",
            "                 'tag': None,\n",
            "                 'word': 'untuk'},\n",
            "             8: {'address': 8,\n",
            "                 'ctag': None,\n",
            "                 'deps': defaultdict(<class 'list'>, {'': [7]}),\n",
            "                 'feats': None,\n",
            "                 'head': None,\n",
            "                 'lemma': None,\n",
            "                 'rel': None,\n",
            "                 'tag': None,\n",
            "                 'word': 'bermain'},\n",
            "             9: {'address': 9,\n",
            "                 'ctag': None,\n",
            "                 'deps': defaultdict(<class 'list'>, {}),\n",
            "                 'feats': None,\n",
            "                 'head': None,\n",
            "                 'lemma': None,\n",
            "                 'rel': None,\n",
            "                 'tag': None,\n",
            "                 'word': 'basket'}})\n",
            "defaultdict(<function DependencyGraph.__init__.<locals>.<lambda> at 0x7fbe92d27400>,\n",
            "            {0: {'address': 0,\n",
            "                 'ctag': 'TOP',\n",
            "                 'deps': defaultdict(<class 'list'>, {'ROOT': [3]}),\n",
            "                 'feats': None,\n",
            "                 'head': None,\n",
            "                 'lemma': None,\n",
            "                 'rel': None,\n",
            "                 'tag': 'TOP',\n",
            "                 'word': None},\n",
            "             1: {'address': 1,\n",
            "                 'ctag': None,\n",
            "                 'deps': defaultdict(<class 'list'>, {'': [2]}),\n",
            "                 'feats': None,\n",
            "                 'head': None,\n",
            "                 'lemma': None,\n",
            "                 'rel': None,\n",
            "                 'tag': None,\n",
            "                 'word': 'wanita'},\n",
            "             2: {'address': 2,\n",
            "                 'ctag': None,\n",
            "                 'deps': defaultdict(<class 'list'>, {}),\n",
            "                 'feats': None,\n",
            "                 'head': None,\n",
            "                 'lemma': None,\n",
            "                 'rel': None,\n",
            "                 'tag': None,\n",
            "                 'word': 'itu'},\n",
            "             3: {'address': 3,\n",
            "                 'ctag': None,\n",
            "                 'deps': defaultdict(<class 'list'>, {'': [1, 4, 8]}),\n",
            "                 'feats': None,\n",
            "                 'head': None,\n",
            "                 'lemma': None,\n",
            "                 'rel': None,\n",
            "                 'tag': None,\n",
            "                 'word': 'mengajak'},\n",
            "             4: {'address': 4,\n",
            "                 'ctag': None,\n",
            "                 'deps': defaultdict(<class 'list'>, {'': [5, 7, 9]}),\n",
            "                 'feats': None,\n",
            "                 'head': None,\n",
            "                 'lemma': None,\n",
            "                 'rel': None,\n",
            "                 'tag': None,\n",
            "                 'word': 'bermain'},\n",
            "             5: {'address': 5,\n",
            "                 'ctag': None,\n",
            "                 'deps': defaultdict(<class 'list'>, {'': [6]}),\n",
            "                 'feats': None,\n",
            "                 'head': None,\n",
            "                 'lemma': None,\n",
            "                 'rel': None,\n",
            "                 'tag': None,\n",
            "                 'word': 'teman'},\n",
            "             6: {'address': 6,\n",
            "                 'ctag': None,\n",
            "                 'deps': defaultdict(<class 'list'>, {}),\n",
            "                 'feats': None,\n",
            "                 'head': None,\n",
            "                 'lemma': None,\n",
            "                 'rel': None,\n",
            "                 'tag': None,\n",
            "                 'word': 'kecilnya'},\n",
            "             7: {'address': 7,\n",
            "                 'ctag': None,\n",
            "                 'deps': defaultdict(<class 'list'>, {}),\n",
            "                 'feats': None,\n",
            "                 'head': None,\n",
            "                 'lemma': None,\n",
            "                 'rel': None,\n",
            "                 'tag': None,\n",
            "                 'word': 'untuk'},\n",
            "             8: {'address': 8,\n",
            "                 'ctag': None,\n",
            "                 'deps': defaultdict(<class 'list'>, {}),\n",
            "                 'feats': None,\n",
            "                 'head': None,\n",
            "                 'lemma': None,\n",
            "                 'rel': None,\n",
            "                 'tag': None,\n",
            "                 'word': 'bermain'},\n",
            "             9: {'address': 9,\n",
            "                 'ctag': None,\n",
            "                 'deps': defaultdict(<class 'list'>, {}),\n",
            "                 'feats': None,\n",
            "                 'head': None,\n",
            "                 'lemma': None,\n",
            "                 'rel': None,\n",
            "                 'tag': None,\n",
            "                 'word': 'basket'}})\n"
          ],
          "name": "stdout"
        }
      ]
    }
  ]
}